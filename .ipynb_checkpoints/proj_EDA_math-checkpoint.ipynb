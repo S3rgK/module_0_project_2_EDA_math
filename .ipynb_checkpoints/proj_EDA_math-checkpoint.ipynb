{
 "cells": [
  {
   "cell_type": "code",
   "execution_count": 1,
   "metadata": {},
   "outputs": [],
   "source": [
    "import pandas as pd\n",
    "import matplotlib.pyplot as plt\n",
    "import seaborn as sns\n",
    "from itertools import combinations\n",
    "from scipy.stats import ttest_ind\n",
    "from collections import Counter\n",
    "import random"
   ]
  },
  {
   "cell_type": "code",
   "execution_count": 2,
   "metadata": {},
   "outputs": [],
   "source": [
    "data = pd.read_csv('stud_math.csv')"
   ]
  },
  {
   "cell_type": "code",
   "execution_count": 3,
   "metadata": {},
   "outputs": [],
   "source": [
    "pd.set_option('display.max_rows', 50)\n",
    "pd.set_option('display.max_columns', 50)"
   ]
  },
  {
   "cell_type": "code",
   "execution_count": 4,
   "metadata": {},
   "outputs": [],
   "source": [
    "# dropping 'studytime, granular' (dunno what's this, looks useless)\n",
    "\n",
    "data.drop(['studytime, granular'], axis=1, inplace=True)"
   ]
  },
  {
   "cell_type": "code",
   "execution_count": 5,
   "metadata": {},
   "outputs": [],
   "source": [
    "# unifying columns names (lower letters only in columns names)\n",
    "\n",
    "data.rename(columns=lambda x: x.replace(x, x.lower()), inplace=True)"
   ]
  },
  {
   "cell_type": "code",
   "execution_count": 6,
   "metadata": {},
   "outputs": [],
   "source": [
    "# converting dtypes (for 'float's to 'int's mostly)\n",
    "\n",
    "data = data.convert_dtypes(infer_objects=True, convert_integer=True)"
   ]
  },
  {
   "cell_type": "code",
   "execution_count": 7,
   "metadata": {},
   "outputs": [],
   "source": [
    "# retrieving NaN-free data (for a posteriori estimation of work's quality)\n",
    "\n",
    "data_clean = data.copy()\n",
    "data_clean.dropna(inplace=True)\n",
    "\n",
    "#data_clean.info()"
   ]
  },
  {
   "cell_type": "code",
   "execution_count": 8,
   "metadata": {},
   "outputs": [
    {
     "data": {
      "text/html": [
       "<div>\n",
       "<style scoped>\n",
       "    .dataframe tbody tr th:only-of-type {\n",
       "        vertical-align: middle;\n",
       "    }\n",
       "\n",
       "    .dataframe tbody tr th {\n",
       "        vertical-align: top;\n",
       "    }\n",
       "\n",
       "    .dataframe thead th {\n",
       "        text-align: right;\n",
       "    }\n",
       "</style>\n",
       "<table border=\"1\" class=\"dataframe\">\n",
       "  <thead>\n",
       "    <tr style=\"text-align: right;\">\n",
       "      <th></th>\n",
       "      <th>school</th>\n",
       "      <th>sex</th>\n",
       "      <th>age</th>\n",
       "      <th>address</th>\n",
       "      <th>famsize</th>\n",
       "      <th>pstatus</th>\n",
       "      <th>medu</th>\n",
       "      <th>fedu</th>\n",
       "      <th>mjob</th>\n",
       "      <th>fjob</th>\n",
       "      <th>reason</th>\n",
       "      <th>guardian</th>\n",
       "      <th>traveltime</th>\n",
       "      <th>studytime</th>\n",
       "      <th>failures</th>\n",
       "      <th>schoolsup</th>\n",
       "      <th>famsup</th>\n",
       "      <th>paid</th>\n",
       "      <th>activities</th>\n",
       "      <th>nursery</th>\n",
       "      <th>higher</th>\n",
       "      <th>internet</th>\n",
       "      <th>romantic</th>\n",
       "      <th>famrel</th>\n",
       "      <th>freetime</th>\n",
       "      <th>goout</th>\n",
       "      <th>health</th>\n",
       "      <th>absences</th>\n",
       "      <th>score</th>\n",
       "    </tr>\n",
       "  </thead>\n",
       "  <tbody>\n",
       "    <tr>\n",
       "      <th>0</th>\n",
       "      <td>GP</td>\n",
       "      <td>F</td>\n",
       "      <td>18</td>\n",
       "      <td>U</td>\n",
       "      <td>&lt;NA&gt;</td>\n",
       "      <td>A</td>\n",
       "      <td>4</td>\n",
       "      <td>4</td>\n",
       "      <td>at_home</td>\n",
       "      <td>teacher</td>\n",
       "      <td>course</td>\n",
       "      <td>mother</td>\n",
       "      <td>2</td>\n",
       "      <td>2</td>\n",
       "      <td>0</td>\n",
       "      <td>yes</td>\n",
       "      <td>no</td>\n",
       "      <td>no</td>\n",
       "      <td>no</td>\n",
       "      <td>yes</td>\n",
       "      <td>yes</td>\n",
       "      <td>&lt;NA&gt;</td>\n",
       "      <td>no</td>\n",
       "      <td>4</td>\n",
       "      <td>3</td>\n",
       "      <td>4</td>\n",
       "      <td>3</td>\n",
       "      <td>6</td>\n",
       "      <td>30</td>\n",
       "    </tr>\n",
       "    <tr>\n",
       "      <th>1</th>\n",
       "      <td>GP</td>\n",
       "      <td>F</td>\n",
       "      <td>17</td>\n",
       "      <td>U</td>\n",
       "      <td>GT3</td>\n",
       "      <td>&lt;NA&gt;</td>\n",
       "      <td>1</td>\n",
       "      <td>1</td>\n",
       "      <td>at_home</td>\n",
       "      <td>other</td>\n",
       "      <td>course</td>\n",
       "      <td>father</td>\n",
       "      <td>1</td>\n",
       "      <td>2</td>\n",
       "      <td>0</td>\n",
       "      <td>no</td>\n",
       "      <td>yes</td>\n",
       "      <td>no</td>\n",
       "      <td>no</td>\n",
       "      <td>no</td>\n",
       "      <td>yes</td>\n",
       "      <td>yes</td>\n",
       "      <td>no</td>\n",
       "      <td>5</td>\n",
       "      <td>3</td>\n",
       "      <td>3</td>\n",
       "      <td>3</td>\n",
       "      <td>4</td>\n",
       "      <td>30</td>\n",
       "    </tr>\n",
       "    <tr>\n",
       "      <th>2</th>\n",
       "      <td>GP</td>\n",
       "      <td>F</td>\n",
       "      <td>15</td>\n",
       "      <td>U</td>\n",
       "      <td>LE3</td>\n",
       "      <td>T</td>\n",
       "      <td>1</td>\n",
       "      <td>1</td>\n",
       "      <td>at_home</td>\n",
       "      <td>other</td>\n",
       "      <td>other</td>\n",
       "      <td>mother</td>\n",
       "      <td>1</td>\n",
       "      <td>2</td>\n",
       "      <td>3</td>\n",
       "      <td>yes</td>\n",
       "      <td>no</td>\n",
       "      <td>&lt;NA&gt;</td>\n",
       "      <td>no</td>\n",
       "      <td>yes</td>\n",
       "      <td>yes</td>\n",
       "      <td>yes</td>\n",
       "      <td>&lt;NA&gt;</td>\n",
       "      <td>4</td>\n",
       "      <td>3</td>\n",
       "      <td>2</td>\n",
       "      <td>3</td>\n",
       "      <td>10</td>\n",
       "      <td>50</td>\n",
       "    </tr>\n",
       "    <tr>\n",
       "      <th>3</th>\n",
       "      <td>GP</td>\n",
       "      <td>F</td>\n",
       "      <td>15</td>\n",
       "      <td>U</td>\n",
       "      <td>GT3</td>\n",
       "      <td>T</td>\n",
       "      <td>4</td>\n",
       "      <td>2</td>\n",
       "      <td>health</td>\n",
       "      <td>&lt;NA&gt;</td>\n",
       "      <td>home</td>\n",
       "      <td>mother</td>\n",
       "      <td>1</td>\n",
       "      <td>3</td>\n",
       "      <td>0</td>\n",
       "      <td>no</td>\n",
       "      <td>yes</td>\n",
       "      <td>yes</td>\n",
       "      <td>yes</td>\n",
       "      <td>yes</td>\n",
       "      <td>yes</td>\n",
       "      <td>yes</td>\n",
       "      <td>yes</td>\n",
       "      <td>3</td>\n",
       "      <td>2</td>\n",
       "      <td>2</td>\n",
       "      <td>5</td>\n",
       "      <td>2</td>\n",
       "      <td>75</td>\n",
       "    </tr>\n",
       "    <tr>\n",
       "      <th>4</th>\n",
       "      <td>GP</td>\n",
       "      <td>F</td>\n",
       "      <td>16</td>\n",
       "      <td>U</td>\n",
       "      <td>GT3</td>\n",
       "      <td>T</td>\n",
       "      <td>3</td>\n",
       "      <td>3</td>\n",
       "      <td>other</td>\n",
       "      <td>other</td>\n",
       "      <td>home</td>\n",
       "      <td>father</td>\n",
       "      <td>1</td>\n",
       "      <td>2</td>\n",
       "      <td>0</td>\n",
       "      <td>no</td>\n",
       "      <td>yes</td>\n",
       "      <td>yes</td>\n",
       "      <td>no</td>\n",
       "      <td>yes</td>\n",
       "      <td>yes</td>\n",
       "      <td>no</td>\n",
       "      <td>no</td>\n",
       "      <td>4</td>\n",
       "      <td>3</td>\n",
       "      <td>2</td>\n",
       "      <td>5</td>\n",
       "      <td>4</td>\n",
       "      <td>50</td>\n",
       "    </tr>\n",
       "    <tr>\n",
       "      <th>...</th>\n",
       "      <td>...</td>\n",
       "      <td>...</td>\n",
       "      <td>...</td>\n",
       "      <td>...</td>\n",
       "      <td>...</td>\n",
       "      <td>...</td>\n",
       "      <td>...</td>\n",
       "      <td>...</td>\n",
       "      <td>...</td>\n",
       "      <td>...</td>\n",
       "      <td>...</td>\n",
       "      <td>...</td>\n",
       "      <td>...</td>\n",
       "      <td>...</td>\n",
       "      <td>...</td>\n",
       "      <td>...</td>\n",
       "      <td>...</td>\n",
       "      <td>...</td>\n",
       "      <td>...</td>\n",
       "      <td>...</td>\n",
       "      <td>...</td>\n",
       "      <td>...</td>\n",
       "      <td>...</td>\n",
       "      <td>...</td>\n",
       "      <td>...</td>\n",
       "      <td>...</td>\n",
       "      <td>...</td>\n",
       "      <td>...</td>\n",
       "      <td>...</td>\n",
       "    </tr>\n",
       "    <tr>\n",
       "      <th>390</th>\n",
       "      <td>MS</td>\n",
       "      <td>M</td>\n",
       "      <td>20</td>\n",
       "      <td>U</td>\n",
       "      <td>LE3</td>\n",
       "      <td>A</td>\n",
       "      <td>2</td>\n",
       "      <td>2</td>\n",
       "      <td>services</td>\n",
       "      <td>services</td>\n",
       "      <td>course</td>\n",
       "      <td>&lt;NA&gt;</td>\n",
       "      <td>1</td>\n",
       "      <td>2</td>\n",
       "      <td>2</td>\n",
       "      <td>no</td>\n",
       "      <td>yes</td>\n",
       "      <td>yes</td>\n",
       "      <td>no</td>\n",
       "      <td>yes</td>\n",
       "      <td>yes</td>\n",
       "      <td>no</td>\n",
       "      <td>no</td>\n",
       "      <td>5</td>\n",
       "      <td>5</td>\n",
       "      <td>4</td>\n",
       "      <td>4</td>\n",
       "      <td>212</td>\n",
       "      <td>45</td>\n",
       "    </tr>\n",
       "    <tr>\n",
       "      <th>391</th>\n",
       "      <td>MS</td>\n",
       "      <td>M</td>\n",
       "      <td>17</td>\n",
       "      <td>U</td>\n",
       "      <td>LE3</td>\n",
       "      <td>T</td>\n",
       "      <td>3</td>\n",
       "      <td>1</td>\n",
       "      <td>services</td>\n",
       "      <td>services</td>\n",
       "      <td>course</td>\n",
       "      <td>mother</td>\n",
       "      <td>2</td>\n",
       "      <td>1</td>\n",
       "      <td>0</td>\n",
       "      <td>no</td>\n",
       "      <td>no</td>\n",
       "      <td>no</td>\n",
       "      <td>no</td>\n",
       "      <td>no</td>\n",
       "      <td>yes</td>\n",
       "      <td>yes</td>\n",
       "      <td>no</td>\n",
       "      <td>2</td>\n",
       "      <td>4</td>\n",
       "      <td>5</td>\n",
       "      <td>2</td>\n",
       "      <td>3</td>\n",
       "      <td>80</td>\n",
       "    </tr>\n",
       "    <tr>\n",
       "      <th>392</th>\n",
       "      <td>MS</td>\n",
       "      <td>M</td>\n",
       "      <td>21</td>\n",
       "      <td>R</td>\n",
       "      <td>GT3</td>\n",
       "      <td>T</td>\n",
       "      <td>1</td>\n",
       "      <td>1</td>\n",
       "      <td>other</td>\n",
       "      <td>other</td>\n",
       "      <td>course</td>\n",
       "      <td>&lt;NA&gt;</td>\n",
       "      <td>1</td>\n",
       "      <td>1</td>\n",
       "      <td>3</td>\n",
       "      <td>&lt;NA&gt;</td>\n",
       "      <td>no</td>\n",
       "      <td>no</td>\n",
       "      <td>no</td>\n",
       "      <td>no</td>\n",
       "      <td>&lt;NA&gt;</td>\n",
       "      <td>no</td>\n",
       "      <td>no</td>\n",
       "      <td>5</td>\n",
       "      <td>5</td>\n",
       "      <td>3</td>\n",
       "      <td>3</td>\n",
       "      <td>3</td>\n",
       "      <td>35</td>\n",
       "    </tr>\n",
       "    <tr>\n",
       "      <th>393</th>\n",
       "      <td>MS</td>\n",
       "      <td>M</td>\n",
       "      <td>18</td>\n",
       "      <td>R</td>\n",
       "      <td>LE3</td>\n",
       "      <td>T</td>\n",
       "      <td>3</td>\n",
       "      <td>2</td>\n",
       "      <td>services</td>\n",
       "      <td>other</td>\n",
       "      <td>course</td>\n",
       "      <td>mother</td>\n",
       "      <td>3</td>\n",
       "      <td>1</td>\n",
       "      <td>0</td>\n",
       "      <td>no</td>\n",
       "      <td>no</td>\n",
       "      <td>no</td>\n",
       "      <td>&lt;NA&gt;</td>\n",
       "      <td>no</td>\n",
       "      <td>yes</td>\n",
       "      <td>yes</td>\n",
       "      <td>no</td>\n",
       "      <td>4</td>\n",
       "      <td>4</td>\n",
       "      <td>1</td>\n",
       "      <td>5</td>\n",
       "      <td>0</td>\n",
       "      <td>50</td>\n",
       "    </tr>\n",
       "    <tr>\n",
       "      <th>394</th>\n",
       "      <td>MS</td>\n",
       "      <td>M</td>\n",
       "      <td>19</td>\n",
       "      <td>U</td>\n",
       "      <td>LE3</td>\n",
       "      <td>T</td>\n",
       "      <td>1</td>\n",
       "      <td>1</td>\n",
       "      <td>other</td>\n",
       "      <td>at_home</td>\n",
       "      <td>&lt;NA&gt;</td>\n",
       "      <td>father</td>\n",
       "      <td>1</td>\n",
       "      <td>1</td>\n",
       "      <td>0</td>\n",
       "      <td>&lt;NA&gt;</td>\n",
       "      <td>no</td>\n",
       "      <td>no</td>\n",
       "      <td>no</td>\n",
       "      <td>yes</td>\n",
       "      <td>yes</td>\n",
       "      <td>yes</td>\n",
       "      <td>no</td>\n",
       "      <td>3</td>\n",
       "      <td>2</td>\n",
       "      <td>3</td>\n",
       "      <td>5</td>\n",
       "      <td>5</td>\n",
       "      <td>45</td>\n",
       "    </tr>\n",
       "  </tbody>\n",
       "</table>\n",
       "<p>395 rows × 29 columns</p>\n",
       "</div>"
      ],
      "text/plain": [
       "    school sex  age address famsize pstatus  medu  fedu      mjob      fjob  \\\n",
       "0       GP   F   18       U    <NA>       A     4     4   at_home   teacher   \n",
       "1       GP   F   17       U     GT3    <NA>     1     1   at_home     other   \n",
       "2       GP   F   15       U     LE3       T     1     1   at_home     other   \n",
       "3       GP   F   15       U     GT3       T     4     2    health      <NA>   \n",
       "4       GP   F   16       U     GT3       T     3     3     other     other   \n",
       "..     ...  ..  ...     ...     ...     ...   ...   ...       ...       ...   \n",
       "390     MS   M   20       U     LE3       A     2     2  services  services   \n",
       "391     MS   M   17       U     LE3       T     3     1  services  services   \n",
       "392     MS   M   21       R     GT3       T     1     1     other     other   \n",
       "393     MS   M   18       R     LE3       T     3     2  services     other   \n",
       "394     MS   M   19       U     LE3       T     1     1     other   at_home   \n",
       "\n",
       "     reason guardian  traveltime  studytime  failures schoolsup famsup  paid  \\\n",
       "0    course   mother           2          2         0       yes     no    no   \n",
       "1    course   father           1          2         0        no    yes    no   \n",
       "2     other   mother           1          2         3       yes     no  <NA>   \n",
       "3      home   mother           1          3         0        no    yes   yes   \n",
       "4      home   father           1          2         0        no    yes   yes   \n",
       "..      ...      ...         ...        ...       ...       ...    ...   ...   \n",
       "390  course     <NA>           1          2         2        no    yes   yes   \n",
       "391  course   mother           2          1         0        no     no    no   \n",
       "392  course     <NA>           1          1         3      <NA>     no    no   \n",
       "393  course   mother           3          1         0        no     no    no   \n",
       "394    <NA>   father           1          1         0      <NA>     no    no   \n",
       "\n",
       "    activities nursery higher internet romantic  famrel  freetime  goout  \\\n",
       "0           no     yes    yes     <NA>       no       4         3      4   \n",
       "1           no      no    yes      yes       no       5         3      3   \n",
       "2           no     yes    yes      yes     <NA>       4         3      2   \n",
       "3          yes     yes    yes      yes      yes       3         2      2   \n",
       "4           no     yes    yes       no       no       4         3      2   \n",
       "..         ...     ...    ...      ...      ...     ...       ...    ...   \n",
       "390         no     yes    yes       no       no       5         5      4   \n",
       "391         no      no    yes      yes       no       2         4      5   \n",
       "392         no      no   <NA>       no       no       5         5      3   \n",
       "393       <NA>      no    yes      yes       no       4         4      1   \n",
       "394         no     yes    yes      yes       no       3         2      3   \n",
       "\n",
       "     health  absences  score  \n",
       "0         3         6     30  \n",
       "1         3         4     30  \n",
       "2         3        10     50  \n",
       "3         5         2     75  \n",
       "4         5         4     50  \n",
       "..      ...       ...    ...  \n",
       "390       4       212     45  \n",
       "391       2         3     80  \n",
       "392       3         3     35  \n",
       "393       5         0     50  \n",
       "394       5         5     45  \n",
       "\n",
       "[395 rows x 29 columns]"
      ]
     },
     "execution_count": 8,
     "metadata": {},
     "output_type": "execute_result"
    }
   ],
   "source": [
    "data"
   ]
  },
  {
   "cell_type": "code",
   "execution_count": 9,
   "metadata": {},
   "outputs": [
    {
     "name": "stdout",
     "output_type": "stream",
     "text": [
      "<class 'pandas.core.frame.DataFrame'>\n",
      "RangeIndex: 395 entries, 0 to 394\n",
      "Data columns (total 29 columns):\n",
      " #   Column      Non-Null Count  Dtype \n",
      "---  ------      --------------  ----- \n",
      " 0   school      395 non-null    string\n",
      " 1   sex         395 non-null    string\n",
      " 2   age         395 non-null    Int64 \n",
      " 3   address     378 non-null    string\n",
      " 4   famsize     368 non-null    string\n",
      " 5   pstatus     350 non-null    string\n",
      " 6   medu        392 non-null    Int64 \n",
      " 7   fedu        371 non-null    Int64 \n",
      " 8   mjob        376 non-null    string\n",
      " 9   fjob        359 non-null    string\n",
      " 10  reason      378 non-null    string\n",
      " 11  guardian    364 non-null    string\n",
      " 12  traveltime  367 non-null    Int64 \n",
      " 13  studytime   388 non-null    Int64 \n",
      " 14  failures    373 non-null    Int64 \n",
      " 15  schoolsup   386 non-null    string\n",
      " 16  famsup      356 non-null    string\n",
      " 17  paid        355 non-null    string\n",
      " 18  activities  381 non-null    string\n",
      " 19  nursery     379 non-null    string\n",
      " 20  higher      375 non-null    string\n",
      " 21  internet    361 non-null    string\n",
      " 22  romantic    364 non-null    string\n",
      " 23  famrel      368 non-null    Int64 \n",
      " 24  freetime    384 non-null    Int64 \n",
      " 25  goout       387 non-null    Int64 \n",
      " 26  health      380 non-null    Int64 \n",
      " 27  absences    383 non-null    Int64 \n",
      " 28  score       389 non-null    Int64 \n",
      "dtypes: Int64(12), string(17)\n",
      "memory usage: 94.2 KB\n"
     ]
    }
   ],
   "source": [
    "data.info()"
   ]
  },
  {
   "cell_type": "code",
   "execution_count": 10,
   "metadata": {},
   "outputs": [],
   "source": [
    "# scales info\n",
    "\n",
    "#display(data.famrel.unique())\n",
    "#display(data.famrel.value_counts())\n",
    "\n",
    "#display(data.freetime.unique())\n",
    "#display(data.freetime.value_counts())\n",
    "\n",
    "#display(data.goout.unique())\n",
    "#display(data.goout.value_counts())\n",
    "\n",
    "#display(data.health.unique())\n",
    "#display(data.health.value_counts())"
   ]
  },
  {
   "cell_type": "code",
   "execution_count": 11,
   "metadata": {},
   "outputs": [],
   "source": [
    "# scales: 'family relations', 'freetime', 'go out', 'health' - replacing NaN, \n",
    "\n",
    "data.famrel = data.famrel.fillna(0)\n",
    "data.freetime = data.freetime.fillna(0)\n",
    "data.goout = data.goout.fillna(0)\n",
    "data.health = data.health.fillna(0)"
   ]
  },
  {
   "cell_type": "code",
   "execution_count": 12,
   "metadata": {},
   "outputs": [],
   "source": [
    "# scales: 'family relations', 'freetime', 'go out', 'health' - deleting outliers\n",
    "\n",
    "data = data.loc[data.famrel.between(1,5)]\n",
    "data = data.loc[data.freetime.between(1,5)]\n",
    "data = data.loc[data.goout.between(1,5)]\n",
    "data = data.loc[data.health.between(1,5)]"
   ]
  },
  {
   "cell_type": "code",
   "execution_count": 13,
   "metadata": {},
   "outputs": [
    {
     "name": "stdout",
     "output_type": "stream",
     "text": [
      "Scales are okay, data is clean\n"
     ]
    },
    {
     "data": {
      "image/png": "[encoded data removed]",
      "text/plain": [
       "<Figure size 1152x288 with 4 Axes>"
      ]
     },
     "metadata": {
      "needs_background": "light"
     },
     "output_type": "display_data"
    }
   ],
   "source": [
    "# scales: 'family relations', 'freetime', 'go out', 'health' - distribution of values\n",
    "\n",
    "fig, axes = plt.subplots(1, 4, figsize = (16, 4))\n",
    "\n",
    "axes[0].hist(data.famrel, bins=5)\n",
    "axes[0].set_title('family relations')\n",
    "\n",
    "axes[1].hist(data.freetime, bins=5)\n",
    "axes[1].set_title('free time')\n",
    "\n",
    "axes[2].hist(data.goout, bins=5)\n",
    "axes[2].set_title('go out')\n",
    "\n",
    "axes[3].hist(data.health, bins=5)\n",
    "axes[3].set_title('health')\n",
    "\n",
    "print('Scales are okay, data is clean')"
   ]
  },
  {
   "cell_type": "code",
   "execution_count": 14,
   "metadata": {},
   "outputs": [
    {
     "data": {
      "text/plain": [
       "count    322.000000\n",
       "mean       7.276398\n",
       "std       25.012670\n",
       "min        0.000000\n",
       "25%        0.000000\n",
       "50%        4.000000\n",
       "75%        8.000000\n",
       "max      385.000000\n",
       "Name: absences, dtype: float64"
      ]
     },
     "execution_count": 14,
     "metadata": {},
     "output_type": "execute_result"
    },
    {
     "data": {
      "image/png": "[encoded data removed]",
      "text/plain": [
       "<Figure size 432x288 with 1 Axes>"
      ]
     },
     "metadata": {
      "needs_background": "light"
     },
     "output_type": "display_data"
    }
   ],
   "source": [
    "sns.boxplot(data.absences)\n",
    "data.absences.describe()\n",
    "\n",
    "# let's take a look at 'absences'"
   ]
  },
  {
   "cell_type": "code",
   "execution_count": 15,
   "metadata": {},
   "outputs": [],
   "source": [
    "# only 12 'nan' of 320+ values and some enormous outliers\n",
    "# It's okay to fill 'nan' with median value of 'absences'\n",
    "\n",
    "abs_med = data.absences.median()\n",
    "\n",
    "data.absences = data.absences.fillna(abs_med)"
   ]
  },
  {
   "cell_type": "code",
   "execution_count": 16,
   "metadata": {},
   "outputs": [],
   "source": [
    "# defining IQR and deleting outliers in 'absences'\n",
    "\n",
    "abs_perc25 = data.absences.quantile(0.25)\n",
    "abs_perc75 = data.absences.quantile(0.75)\n",
    "abs_IQR = abs_perc75 - abs_perc25\n",
    "\n",
    "data = data.loc[data.absences.between(abs_perc25 - 1.5*abs_IQR, abs_perc75 + 1.5*abs_IQR)]"
   ]
  },
  {
   "cell_type": "code",
   "execution_count": 17,
   "metadata": {},
   "outputs": [
    {
     "data": {
      "text/plain": [
       "<matplotlib.axes._subplots.AxesSubplot at 0x1fea12aeb48>"
      ]
     },
     "execution_count": 17,
     "metadata": {},
     "output_type": "execute_result"
    },
    {
     "data": {
      "image/png": "[encoded data removed]",
      "text/plain": [
       "<Figure size 432x288 with 1 Axes>"
      ]
     },
     "metadata": {
      "needs_background": "light"
     },
     "output_type": "display_data"
    }
   ],
   "source": [
    "# address\n",
    "\n",
    "data.address.hist(bins=2)"
   ]
  },
  {
   "cell_type": "code",
   "execution_count": 18,
   "metadata": {},
   "outputs": [
    {
     "data": {
      "text/plain": [
       "U    238\n",
       "R     69\n",
       "Name: address, dtype: Int64"
      ]
     },
     "execution_count": 18,
     "metadata": {},
     "output_type": "execute_result"
    }
   ],
   "source": [
    "data.address.value_counts()"
   ]
  },
  {
   "cell_type": "code",
   "execution_count": 19,
   "metadata": {},
   "outputs": [],
   "source": [
    "# few 'nan' and prevailing 'U' allows to fill 'nan' with the nearest values. \n",
    "# It will allow to save data and will not affect drastically on distribution \n",
    "# filling 'nan' in 'address' with nearest values\n",
    "\n",
    "data.address = data.address.fillna(method='ffill')"
   ]
  },
  {
   "cell_type": "code",
   "execution_count": 20,
   "metadata": {},
   "outputs": [
    {
     "data": {
      "text/plain": [
       "GT3    213\n",
       "LE3     87\n",
       "Name: famsize, dtype: Int64"
      ]
     },
     "execution_count": 20,
     "metadata": {},
     "output_type": "execute_result"
    }
   ],
   "source": [
    "# 'famsize'\n",
    "\n",
    "data.famsize.value_counts()"
   ]
  },
  {
   "cell_type": "code",
   "execution_count": 21,
   "metadata": {},
   "outputs": [
    {
     "data": {
      "text/plain": [
       "<matplotlib.axes._subplots.AxesSubplot at 0x1fea131f648>"
      ]
     },
     "execution_count": 21,
     "metadata": {},
     "output_type": "execute_result"
    },
    {
     "data": {
      "image/png": "[encoded data removed]",
      "text/plain": [
       "<Figure size 432x288 with 1 Axes>"
      ]
     },
     "metadata": {
      "needs_background": "light"
     },
     "output_type": "display_data"
    }
   ],
   "source": [
    "data.famsize.hist(bins=3)"
   ]
  },
  {
   "cell_type": "code",
   "execution_count": 22,
   "metadata": {},
   "outputs": [],
   "source": [
    "# same strategy as in 'address' seems to be appropriate here\n",
    "\n",
    "data.famsize = data.famsize.fillna(method='ffill')"
   ]
  },
  {
   "cell_type": "code",
   "execution_count": 23,
   "metadata": {},
   "outputs": [],
   "source": [
    "# filling the last 'nan' in 'famsize' with the most common value - GT3\n",
    "\n",
    "data.famsize = data.famsize.fillna('GT3')"
   ]
  },
  {
   "cell_type": "code",
   "execution_count": 24,
   "metadata": {},
   "outputs": [
    {
     "data": {
      "text/plain": [
       "T    259\n",
       "A     26\n",
       "Name: pstatus, dtype: Int64"
      ]
     },
     "execution_count": 24,
     "metadata": {},
     "output_type": "execute_result"
    }
   ],
   "source": [
    "# 'pstatus'\n",
    "\n",
    "data.pstatus.value_counts()"
   ]
  },
  {
   "cell_type": "code",
   "execution_count": 25,
   "metadata": {},
   "outputs": [],
   "source": [
    "# same strategy as in 'address' and 'famsize' for 'pstatus'\n",
    "\n",
    "data.pstatus = data.pstatus.fillna(method='ffill')"
   ]
  },
  {
   "cell_type": "code",
   "execution_count": 26,
   "metadata": {},
   "outputs": [
    {
     "data": {
      "text/plain": [
       "4    109\n",
       "2     83\n",
       "3     79\n",
       "1     44\n",
       "0      3\n",
       "Name: medu, dtype: Int64"
      ]
     },
     "execution_count": 26,
     "metadata": {},
     "output_type": "execute_result"
    }
   ],
   "source": [
    "# 'medu' and 'fedu'\n",
    "\n",
    "data.medu.value_counts()"
   ]
  },
  {
   "cell_type": "code",
   "execution_count": 27,
   "metadata": {},
   "outputs": [],
   "source": [
    "# removing two 'nan' in 'medu'\n",
    "\n",
    "medu_median = data.medu.median()\n",
    "data.medu = data.medu.fillna(medu_median)"
   ]
  },
  {
   "cell_type": "code",
   "execution_count": 28,
   "metadata": {},
   "outputs": [
    {
     "data": {
      "text/plain": [
       "0"
      ]
     },
     "execution_count": 28,
     "metadata": {},
     "output_type": "execute_result"
    }
   ],
   "source": [
    "# done! no 'nan' in 'medu', 'medu'is okay!\n",
    "\n",
    "data.medu.isnull().sum()"
   ]
  },
  {
   "cell_type": "code",
   "execution_count": 29,
   "metadata": {},
   "outputs": [
    {
     "data": {
      "text/plain": [
       "2     88\n",
       "3     76\n",
       "4     76\n",
       "1     59\n",
       "0      2\n",
       "40     1\n",
       "Name: fedu, dtype: Int64"
      ]
     },
     "execution_count": 29,
     "metadata": {},
     "output_type": "execute_result"
    }
   ],
   "source": [
    "data.fedu.value_counts()"
   ]
  },
  {
   "cell_type": "code",
   "execution_count": 30,
   "metadata": {},
   "outputs": [],
   "source": [
    "# Experiment\n",
    "# let's make copies of the array and choose the best method of dealing with 'nan' in fedu\n",
    "\n",
    "fedu1 = data.fedu.copy()\n",
    "fedu2 = data.fedu.copy()\n",
    "\n",
    "fedu1_1 = fedu1.fillna(method = 'ffill')\n",
    "fedu1_2 = fedu2.fillna(method = 'bfill')\n",
    "\n",
    "\n",
    "\n",
    "fedu1_1 = fedu1_1.replace(40, 4)\n",
    "fedu1_2 = fedu1_2.replace(40, 4)"
   ]
  },
  {
   "cell_type": "code",
   "execution_count": 31,
   "metadata": {},
   "outputs": [],
   "source": [
    "fedu2_med = fedu2.median()\n",
    "fedu2 = fedu2.fillna(fedu2_med)\n",
    "fedu2 = fedu2.replace(40, 4)"
   ]
  },
  {
   "cell_type": "code",
   "execution_count": 32,
   "metadata": {},
   "outputs": [
    {
     "data": {
      "text/plain": [
       "2    94\n",
       "3    83\n",
       "4    80\n",
       "1    61\n",
       "0     2\n",
       "Name: fedu, dtype: Int64"
      ]
     },
     "execution_count": 32,
     "metadata": {},
     "output_type": "execute_result"
    }
   ],
   "source": [
    "fedu1_1.value_counts()"
   ]
  },
  {
   "cell_type": "code",
   "execution_count": 33,
   "metadata": {},
   "outputs": [
    {
     "data": {
      "text/plain": [
       "2    95\n",
       "4    79\n",
       "3    78\n",
       "1    66\n",
       "0     2\n",
       "Name: fedu, dtype: Int64"
      ]
     },
     "execution_count": 33,
     "metadata": {},
     "output_type": "execute_result"
    }
   ],
   "source": [
    "fedu1_2.value_counts()"
   ]
  },
  {
   "cell_type": "code",
   "execution_count": 34,
   "metadata": {},
   "outputs": [
    {
     "data": {
      "text/plain": [
       "3    94\n",
       "2    88\n",
       "4    77\n",
       "1    59\n",
       "0     2\n",
       "Name: fedu, dtype: Int64"
      ]
     },
     "execution_count": 34,
     "metadata": {},
     "output_type": "execute_result"
    }
   ],
   "source": [
    "fedu2.value_counts()"
   ]
  },
  {
   "cell_type": "code",
   "execution_count": 35,
   "metadata": {},
   "outputs": [
    {
     "data": {
      "text/plain": [
       "Text(0.5, 1.0, 'fedu2')"
      ]
     },
     "execution_count": 35,
     "metadata": {},
     "output_type": "execute_result"
    },
    {
     "data": {
      "image/png": "[encoded data removed]",
      "text/plain": [
       "<Figure size 864x288 with 3 Axes>"
      ]
     },
     "metadata": {
      "needs_background": "light"
     },
     "output_type": "display_data"
    }
   ],
   "source": [
    "# visualising experiment's results\n",
    "\n",
    "fig, axes = plt.subplots(1, 3, figsize = (12, 4))\n",
    "\n",
    "axes[0].hist(fedu1_1, bins=5)\n",
    "axes[0].set_title('fedu1_1')\n",
    "\n",
    "axes[1].hist(fedu1_2, bins=5)\n",
    "axes[1].set_title('fedu1_2')\n",
    "\n",
    "axes[2].hist(fedu2, bins=5)\n",
    "axes[2].set_title('fedu2')"
   ]
  },
  {
   "cell_type": "code",
   "execution_count": 36,
   "metadata": {},
   "outputs": [],
   "source": [
    "# filling 'nan' with fedu.median - worst strategy out of three\n",
    "\n",
    "# distribution in fedu1_1 looks more similar to original data, so 'ffill' is more precise than 'bfill'\n",
    "\n",
    "data.fedu = data.fedu.fillna(method='ffill')\n",
    "data.fedu = data.fedu.replace(40, 4)"
   ]
  },
  {
   "cell_type": "code",
   "execution_count": 37,
   "metadata": {},
   "outputs": [
    {
     "data": {
      "text/plain": [
       "4    109\n",
       "2     83\n",
       "3     81\n",
       "1     44\n",
       "0      3\n",
       "Name: medu, dtype: Int64"
      ]
     },
     "execution_count": 37,
     "metadata": {},
     "output_type": "execute_result"
    }
   ],
   "source": [
    "data.medu.value_counts()"
   ]
  },
  {
   "cell_type": "code",
   "execution_count": 38,
   "metadata": {},
   "outputs": [
    {
     "data": {
      "text/plain": [
       "other       111\n",
       "services     76\n",
       "teacher      46\n",
       "at_home      46\n",
       "health       28\n",
       "Name: mjob, dtype: Int64"
      ]
     },
     "metadata": {},
     "output_type": "display_data"
    },
    {
     "data": {
      "text/plain": [
       "other       160\n",
       "services     79\n",
       "teacher      27\n",
       "at_home      14\n",
       "health       11\n",
       "Name: fjob, dtype: Int64"
      ]
     },
     "metadata": {},
     "output_type": "display_data"
    }
   ],
   "source": [
    "# 'mjob', 'fjob'\n",
    "\n",
    "display(data.mjob.value_counts())\n",
    "display(data.fjob.value_counts())"
   ]
  },
  {
   "cell_type": "code",
   "execution_count": 39,
   "metadata": {},
   "outputs": [
    {
     "data": {
      "text/plain": [
       "13"
      ]
     },
     "metadata": {},
     "output_type": "display_data"
    },
    {
     "data": {
      "text/plain": [
       "29"
      ]
     },
     "metadata": {},
     "output_type": "display_data"
    }
   ],
   "source": [
    "display(data.mjob.isnull().sum())\n",
    "\n",
    "display(data.fjob.isnull().sum())"
   ]
  },
  {
   "cell_type": "code",
   "execution_count": 40,
   "metadata": {},
   "outputs": [],
   "source": [
    "# 'higher'\n",
    "# very few 'nan' and 'no', so it's safe to fill 'nan' with 'yes'\n",
    "\n",
    "data.higher = data.higher.fillna('yes')"
   ]
  },
  {
   "cell_type": "code",
   "execution_count": 41,
   "metadata": {},
   "outputs": [
    {
     "data": {
      "text/plain": [
       "yes    306\n",
       "no      14\n",
       "Name: higher, dtype: Int64"
      ]
     },
     "execution_count": 41,
     "metadata": {},
     "output_type": "execute_result"
    }
   ],
   "source": [
    "data.higher.value_counts()"
   ]
  },
  {
   "cell_type": "code",
   "execution_count": 42,
   "metadata": {},
   "outputs": [],
   "source": [
    "# dropping rows with empty cells in 'score'\n",
    "\n",
    "data.dropna(subset=['score'], inplace=True)"
   ]
  },
  {
   "cell_type": "code",
   "execution_count": 43,
   "metadata": {},
   "outputs": [
    {
     "data": {
      "text/plain": [
       "<matplotlib.axes._subplots.AxesSubplot at 0x1fea126f0c8>"
      ]
     },
     "execution_count": 43,
     "metadata": {},
     "output_type": "execute_result"
    },
    {
     "data": {
      "image/png": "[encoded data removed]",
      "text/plain": [
       "<Figure size 432x288 with 1 Axes>"
      ]
     },
     "metadata": {
      "needs_background": "light"
     },
     "output_type": "display_data"
    }
   ],
   "source": [
    "data.romantic.hist(bins=2)"
   ]
  },
  {
   "cell_type": "code",
   "execution_count": 44,
   "metadata": {},
   "outputs": [],
   "source": [
    "# few 'nan' in 'romantic', not that matter how to replace them.\n",
    "\n",
    "data.romantic = data.romantic.fillna(method='ffill')"
   ]
  },
  {
   "cell_type": "code",
   "execution_count": 45,
   "metadata": {},
   "outputs": [
    {
     "data": {
      "text/plain": [
       "<matplotlib.axes._subplots.AxesSubplot at 0x1fea11e4708>"
      ]
     },
     "execution_count": 45,
     "metadata": {},
     "output_type": "execute_result"
    },
    {
     "data": {
      "image/png": "[encoded data removed]",
      "text/plain": [
       "<Figure size 432x288 with 1 Axes>"
      ]
     },
     "metadata": {
      "needs_background": "light"
     },
     "output_type": "display_data"
    }
   ],
   "source": [
    "data.internet.hist(bins=2)"
   ]
  },
  {
   "cell_type": "code",
   "execution_count": 46,
   "metadata": {},
   "outputs": [
    {
     "data": {
      "text/plain": [
       "30"
      ]
     },
     "execution_count": 46,
     "metadata": {},
     "output_type": "execute_result"
    }
   ],
   "source": [
    "data.internet.isnull().sum()"
   ]
  },
  {
   "cell_type": "code",
   "execution_count": 47,
   "metadata": {},
   "outputs": [],
   "source": [
    "# creating list of possible answers for 'internet'\n",
    "internet1 = data.internet.unique()\n",
    "internet1 = internet1.dropna()\n",
    "internet1 = list(internet1)"
   ]
  },
  {
   "cell_type": "code",
   "execution_count": 48,
   "metadata": {},
   "outputs": [
    {
     "data": {
      "text/plain": [
       "['yes']"
      ]
     },
     "execution_count": 48,
     "metadata": {},
     "output_type": "execute_result"
    }
   ],
   "source": [
    "param = random.sample(internet1, 1)\n",
    "param"
   ]
  },
  {
   "cell_type": "code",
   "execution_count": 49,
   "metadata": {},
   "outputs": [],
   "source": [
    "#data.internet = data.internet.fillna(random.sample(internet1, 1))"
   ]
  },
  {
   "cell_type": "code",
   "execution_count": 50,
   "metadata": {},
   "outputs": [
    {
     "data": {
      "text/plain": [
       "<NA>"
      ]
     },
     "execution_count": 50,
     "metadata": {},
     "output_type": "execute_result"
    }
   ],
   "source": [
    "data.internet[0]"
   ]
  },
  {
   "cell_type": "code",
   "execution_count": 51,
   "metadata": {},
   "outputs": [],
   "source": [
    "data1=data.copy()\n",
    "data1.dropna(inplace = True)"
   ]
  },
  {
   "cell_type": "code",
   "execution_count": 52,
   "metadata": {},
   "outputs": [
    {
     "data": {
      "text/plain": [
       "<matplotlib.axes._subplots.AxesSubplot at 0x1fea1198d88>"
      ]
     },
     "execution_count": 52,
     "metadata": {},
     "output_type": "execute_result"
    },
    {
     "data": {
      "image/png": "[encoded data removed]",
      "text/plain": [
       "<Figure size 432x288 with 1 Axes>"
      ]
     },
     "metadata": {
      "needs_background": "light"
     },
     "output_type": "display_data"
    }
   ],
   "source": [
    "data.nursery.hist(bins=3)"
   ]
  },
  {
   "cell_type": "code",
   "execution_count": 53,
   "metadata": {},
   "outputs": [
    {
     "data": {
      "text/plain": [
       "<matplotlib.axes._subplots.AxesSubplot at 0x1fea1169c08>"
      ]
     },
     "execution_count": 53,
     "metadata": {},
     "output_type": "execute_result"
    },
    {
     "data": {
      "image/png": "[encoded data removed]",
      "text/plain": [
       "<Figure size 432x288 with 1 Axes>"
      ]
     },
     "metadata": {
      "needs_background": "light"
     },
     "output_type": "display_data"
    }
   ],
   "source": [
    "data.schoolsup.hist(bins=3)"
   ]
  },
  {
   "cell_type": "code",
   "execution_count": 54,
   "metadata": {},
   "outputs": [],
   "source": [
    "# similar distribution type and few 'nan' in 'nursery', 'schoolsup' and 'internet', no matter how to replace them. they will not affect strongly on distribution of values.\n",
    "\n",
    "data.nursery = data.nursery.fillna(method='ffill')\n",
    "data.schoolsup = data.schoolsup.fillna(method='ffill')\n",
    "data.internet = data.internet.fillna(method='bfill')"
   ]
  },
  {
   "cell_type": "code",
   "execution_count": 55,
   "metadata": {},
   "outputs": [],
   "source": [
    "data.guardian = data.guardian.fillna(method='bfill')"
   ]
  },
  {
   "cell_type": "code",
   "execution_count": 56,
   "metadata": {},
   "outputs": [
    {
     "data": {
      "text/plain": [
       "<matplotlib.axes._subplots.AxesSubplot at 0x1fea119edc8>"
      ]
     },
     "execution_count": 56,
     "metadata": {},
     "output_type": "execute_result"
    },
    {
     "data": {
      "image/png": "[encoded data removed]",
      "text/plain": [
       "<Figure size 432x288 with 1 Axes>"
      ]
     },
     "metadata": {
      "needs_background": "light"
     },
     "output_type": "display_data"
    }
   ],
   "source": [
    "data.paid.hist(bins=3)"
   ]
  },
  {
   "cell_type": "code",
   "execution_count": 57,
   "metadata": {},
   "outputs": [
    {
     "data": {
      "text/plain": [
       "<matplotlib.axes._subplots.AxesSubplot at 0x1fea1079748>"
      ]
     },
     "execution_count": 57,
     "metadata": {},
     "output_type": "execute_result"
    },
    {
     "data": {
      "image/png": "[encoded data removed]",
      "text/plain": [
       "<Figure size 432x288 with 1 Axes>"
      ]
     },
     "metadata": {
      "needs_background": "light"
     },
     "output_type": "display_data"
    }
   ],
   "source": [
    "data.famsup.hist(bins=3)"
   ]
  },
  {
   "cell_type": "code",
   "execution_count": 58,
   "metadata": {},
   "outputs": [
    {
     "data": {
      "text/plain": [
       "<matplotlib.axes._subplots.AxesSubplot at 0x1fea15b48c8>"
      ]
     },
     "execution_count": 58,
     "metadata": {},
     "output_type": "execute_result"
    },
    {
     "data": {
      "image/png": "[encoded data removed]",
      "text/plain": [
       "<Figure size 432x288 with 1 Axes>"
      ]
     },
     "metadata": {
      "needs_background": "light"
     },
     "output_type": "display_data"
    }
   ],
   "source": [
    "data.reason.hist(bins=5)"
   ]
  },
  {
   "cell_type": "code",
   "execution_count": 59,
   "metadata": {},
   "outputs": [],
   "source": [
    "# no time to elaborate!!\n",
    "# time for choice randomiser - smth went wrong with functions, copypaste works better in 'no time to think' situation\n",
    "# sorry for awful code\n",
    "\n",
    "mjob_lst = data.mjob.unique().dropna()\n",
    "fjob_lst = data.fjob.unique().dropna()\n",
    "paid_lst = data.paid.unique().dropna()\n",
    "reason_lst = data.reason.unique().dropna()\n",
    "traveltime_lst = data.traveltime.unique().dropna()\n",
    "studytime_lst = data.studytime.unique().dropna()\n",
    "activities_lst = data.activities.unique().dropna()\n",
    "activities_lst = data.activities.unique().dropna()\n",
    "failures_lst = data.failures.unique().dropna()\n",
    "famsup_lst = data.famsup.unique().dropna()\n",
    "\n",
    "data.paid = data.paid.fillna(random.choice(paid_lst))\n",
    "data.mjob = data.mjob.fillna(random.choice(mjob_lst))\n",
    "data.fjob = data.fjob.fillna(random.choice(fjob_lst))\n",
    "data.reason = data.reason.fillna(random.choice(reason_lst))\n",
    "data.traveltime = data.traveltime.fillna(random.choice(traveltime_lst))\n",
    "data.studytime = data.studytime.fillna(random.choice(studytime_lst))\n",
    "data.activities = data.activities.fillna(random.choice(activities_lst))\n",
    "data.failures = data.failures.fillna(random.choice(failures_lst))\n",
    "data.famsup = data.famsup.fillna(random.choice(famsup_lst))"
   ]
  },
  {
   "cell_type": "code",
   "execution_count": 60,
   "metadata": {},
   "outputs": [
    {
     "name": "stdout",
     "output_type": "stream",
     "text": [
      "<class 'pandas.core.frame.DataFrame'>\n",
      "Int64Index: 317 entries, 0 to 394\n",
      "Data columns (total 29 columns):\n",
      " #   Column      Non-Null Count  Dtype \n",
      "---  ------      --------------  ----- \n",
      " 0   school      317 non-null    string\n",
      " 1   sex         317 non-null    string\n",
      " 2   age         317 non-null    Int64 \n",
      " 3   address     317 non-null    string\n",
      " 4   famsize     317 non-null    string\n",
      " 5   pstatus     317 non-null    string\n",
      " 6   medu        317 non-null    Int64 \n",
      " 7   fedu        317 non-null    Int64 \n",
      " 8   mjob        317 non-null    string\n",
      " 9   fjob        317 non-null    string\n",
      " 10  reason      317 non-null    string\n",
      " 11  guardian    317 non-null    string\n",
      " 12  traveltime  317 non-null    Int64 \n",
      " 13  studytime   317 non-null    Int64 \n",
      " 14  failures    317 non-null    Int64 \n",
      " 15  schoolsup   317 non-null    string\n",
      " 16  famsup      317 non-null    string\n",
      " 17  paid        317 non-null    string\n",
      " 18  activities  317 non-null    string\n",
      " 19  nursery     317 non-null    string\n",
      " 20  higher      317 non-null    string\n",
      " 21  internet    317 non-null    string\n",
      " 22  romantic    317 non-null    string\n",
      " 23  famrel      317 non-null    Int64 \n",
      " 24  freetime    317 non-null    Int64 \n",
      " 25  goout       317 non-null    Int64 \n",
      " 26  health      317 non-null    Int64 \n",
      " 27  absences    317 non-null    Int64 \n",
      " 28  score       317 non-null    Int64 \n",
      "dtypes: Int64(12), string(17)\n",
      "memory usage: 88.0 KB\n"
     ]
    }
   ],
   "source": [
    "data.info()"
   ]
  },
  {
   "cell_type": "markdown",
   "metadata": {},
   "source": [
    "# data is clean, no 'nan'!"
   ]
  },
  {
   "cell_type": "code",
   "execution_count": 61,
   "metadata": {},
   "outputs": [
    {
     "data": {
      "text/html": [
       "<div>\n",
       "<style scoped>\n",
       "    .dataframe tbody tr th:only-of-type {\n",
       "        vertical-align: middle;\n",
       "    }\n",
       "\n",
       "    .dataframe tbody tr th {\n",
       "        vertical-align: top;\n",
       "    }\n",
       "\n",
       "    .dataframe thead th {\n",
       "        text-align: right;\n",
       "    }\n",
       "</style>\n",
       "<table border=\"1\" class=\"dataframe\">\n",
       "  <thead>\n",
       "    <tr style=\"text-align: right;\">\n",
       "      <th></th>\n",
       "      <th>age</th>\n",
       "      <th>medu</th>\n",
       "      <th>fedu</th>\n",
       "      <th>traveltime</th>\n",
       "      <th>studytime</th>\n",
       "      <th>failures</th>\n",
       "      <th>famrel</th>\n",
       "      <th>freetime</th>\n",
       "      <th>goout</th>\n",
       "      <th>health</th>\n",
       "      <th>absences</th>\n",
       "      <th>score</th>\n",
       "    </tr>\n",
       "  </thead>\n",
       "  <tbody>\n",
       "    <tr>\n",
       "      <th>age</th>\n",
       "      <td>1.000000</td>\n",
       "      <td>-0.071662</td>\n",
       "      <td>-0.056929</td>\n",
       "      <td>0.143682</td>\n",
       "      <td>-0.220209</td>\n",
       "      <td>0.320914</td>\n",
       "      <td>0.057039</td>\n",
       "      <td>0.040115</td>\n",
       "      <td>0.106748</td>\n",
       "      <td>0.037152</td>\n",
       "      <td>0.142780</td>\n",
       "      <td>-0.186407</td>\n",
       "    </tr>\n",
       "    <tr>\n",
       "      <th>medu</th>\n",
       "      <td>-0.071662</td>\n",
       "      <td>1.000000</td>\n",
       "      <td>0.684379</td>\n",
       "      <td>-0.248099</td>\n",
       "      <td>-0.042491</td>\n",
       "      <td>-0.135065</td>\n",
       "      <td>-0.032146</td>\n",
       "      <td>-0.032350</td>\n",
       "      <td>0.023938</td>\n",
       "      <td>-0.124250</td>\n",
       "      <td>0.101253</td>\n",
       "      <td>0.064914</td>\n",
       "    </tr>\n",
       "    <tr>\n",
       "      <th>fedu</th>\n",
       "      <td>-0.056929</td>\n",
       "      <td>0.684379</td>\n",
       "      <td>1.000000</td>\n",
       "      <td>-0.162149</td>\n",
       "      <td>-0.001350</td>\n",
       "      <td>-0.189926</td>\n",
       "      <td>-0.059084</td>\n",
       "      <td>-0.135575</td>\n",
       "      <td>-0.087894</td>\n",
       "      <td>0.086575</td>\n",
       "      <td>0.059172</td>\n",
       "      <td>-0.014236</td>\n",
       "    </tr>\n",
       "    <tr>\n",
       "      <th>traveltime</th>\n",
       "      <td>0.143682</td>\n",
       "      <td>-0.248099</td>\n",
       "      <td>-0.162149</td>\n",
       "      <td>1.000000</td>\n",
       "      <td>-0.034571</td>\n",
       "      <td>-0.029138</td>\n",
       "      <td>-0.134113</td>\n",
       "      <td>-0.071376</td>\n",
       "      <td>-0.094331</td>\n",
       "      <td>0.147160</td>\n",
       "      <td>-0.148719</td>\n",
       "      <td>-0.094874</td>\n",
       "    </tr>\n",
       "    <tr>\n",
       "      <th>studytime</th>\n",
       "      <td>-0.220209</td>\n",
       "      <td>-0.042491</td>\n",
       "      <td>-0.001350</td>\n",
       "      <td>-0.034571</td>\n",
       "      <td>1.000000</td>\n",
       "      <td>-0.016541</td>\n",
       "      <td>0.025253</td>\n",
       "      <td>-0.226503</td>\n",
       "      <td>-0.129162</td>\n",
       "      <td>-0.067115</td>\n",
       "      <td>-0.018695</td>\n",
       "      <td>-0.029742</td>\n",
       "    </tr>\n",
       "    <tr>\n",
       "      <th>failures</th>\n",
       "      <td>0.320914</td>\n",
       "      <td>-0.135065</td>\n",
       "      <td>-0.189926</td>\n",
       "      <td>-0.029138</td>\n",
       "      <td>-0.016541</td>\n",
       "      <td>1.000000</td>\n",
       "      <td>-0.095520</td>\n",
       "      <td>-0.043110</td>\n",
       "      <td>-0.021022</td>\n",
       "      <td>0.057279</td>\n",
       "      <td>0.239602</td>\n",
       "      <td>-0.314698</td>\n",
       "    </tr>\n",
       "    <tr>\n",
       "      <th>famrel</th>\n",
       "      <td>0.057039</td>\n",
       "      <td>-0.032146</td>\n",
       "      <td>-0.059084</td>\n",
       "      <td>-0.134113</td>\n",
       "      <td>0.025253</td>\n",
       "      <td>-0.095520</td>\n",
       "      <td>1.000000</td>\n",
       "      <td>0.084336</td>\n",
       "      <td>0.069922</td>\n",
       "      <td>0.178145</td>\n",
       "      <td>0.016312</td>\n",
       "      <td>-0.026742</td>\n",
       "    </tr>\n",
       "    <tr>\n",
       "      <th>freetime</th>\n",
       "      <td>0.040115</td>\n",
       "      <td>-0.032350</td>\n",
       "      <td>-0.135575</td>\n",
       "      <td>-0.071376</td>\n",
       "      <td>-0.226503</td>\n",
       "      <td>-0.043110</td>\n",
       "      <td>0.084336</td>\n",
       "      <td>1.000000</td>\n",
       "      <td>0.381049</td>\n",
       "      <td>0.120714</td>\n",
       "      <td>0.093512</td>\n",
       "      <td>0.068862</td>\n",
       "    </tr>\n",
       "    <tr>\n",
       "      <th>goout</th>\n",
       "      <td>0.106748</td>\n",
       "      <td>0.023938</td>\n",
       "      <td>-0.087894</td>\n",
       "      <td>-0.094331</td>\n",
       "      <td>-0.129162</td>\n",
       "      <td>-0.021022</td>\n",
       "      <td>0.069922</td>\n",
       "      <td>0.381049</td>\n",
       "      <td>1.000000</td>\n",
       "      <td>-0.033206</td>\n",
       "      <td>0.094859</td>\n",
       "      <td>-0.079187</td>\n",
       "    </tr>\n",
       "    <tr>\n",
       "      <th>health</th>\n",
       "      <td>0.037152</td>\n",
       "      <td>-0.124250</td>\n",
       "      <td>0.086575</td>\n",
       "      <td>0.147160</td>\n",
       "      <td>-0.067115</td>\n",
       "      <td>0.057279</td>\n",
       "      <td>0.178145</td>\n",
       "      <td>0.120714</td>\n",
       "      <td>-0.033206</td>\n",
       "      <td>1.000000</td>\n",
       "      <td>-0.019866</td>\n",
       "      <td>-0.103462</td>\n",
       "    </tr>\n",
       "    <tr>\n",
       "      <th>absences</th>\n",
       "      <td>0.142780</td>\n",
       "      <td>0.101253</td>\n",
       "      <td>0.059172</td>\n",
       "      <td>-0.148719</td>\n",
       "      <td>-0.018695</td>\n",
       "      <td>0.239602</td>\n",
       "      <td>0.016312</td>\n",
       "      <td>0.093512</td>\n",
       "      <td>0.094859</td>\n",
       "      <td>-0.019866</td>\n",
       "      <td>1.000000</td>\n",
       "      <td>0.012502</td>\n",
       "    </tr>\n",
       "    <tr>\n",
       "      <th>score</th>\n",
       "      <td>-0.186407</td>\n",
       "      <td>0.064914</td>\n",
       "      <td>-0.014236</td>\n",
       "      <td>-0.094874</td>\n",
       "      <td>-0.029742</td>\n",
       "      <td>-0.314698</td>\n",
       "      <td>-0.026742</td>\n",
       "      <td>0.068862</td>\n",
       "      <td>-0.079187</td>\n",
       "      <td>-0.103462</td>\n",
       "      <td>0.012502</td>\n",
       "      <td>1.000000</td>\n",
       "    </tr>\n",
       "  </tbody>\n",
       "</table>\n",
       "</div>"
      ],
      "text/plain": [
       "                 age      medu      fedu  traveltime  studytime  failures  \\\n",
       "age         1.000000 -0.071662 -0.056929    0.143682  -0.220209  0.320914   \n",
       "medu       -0.071662  1.000000  0.684379   -0.248099  -0.042491 -0.135065   \n",
       "fedu       -0.056929  0.684379  1.000000   -0.162149  -0.001350 -0.189926   \n",
       "traveltime  0.143682 -0.248099 -0.162149    1.000000  -0.034571 -0.029138   \n",
       "studytime  -0.220209 -0.042491 -0.001350   -0.034571   1.000000 -0.016541   \n",
       "failures    0.320914 -0.135065 -0.189926   -0.029138  -0.016541  1.000000   \n",
       "famrel      0.057039 -0.032146 -0.059084   -0.134113   0.025253 -0.095520   \n",
       "freetime    0.040115 -0.032350 -0.135575   -0.071376  -0.226503 -0.043110   \n",
       "goout       0.106748  0.023938 -0.087894   -0.094331  -0.129162 -0.021022   \n",
       "health      0.037152 -0.124250  0.086575    0.147160  -0.067115  0.057279   \n",
       "absences    0.142780  0.101253  0.059172   -0.148719  -0.018695  0.239602   \n",
       "score      -0.186407  0.064914 -0.014236   -0.094874  -0.029742 -0.314698   \n",
       "\n",
       "              famrel  freetime     goout    health  absences     score  \n",
       "age         0.057039  0.040115  0.106748  0.037152  0.142780 -0.186407  \n",
       "medu       -0.032146 -0.032350  0.023938 -0.124250  0.101253  0.064914  \n",
       "fedu       -0.059084 -0.135575 -0.087894  0.086575  0.059172 -0.014236  \n",
       "traveltime -0.134113 -0.071376 -0.094331  0.147160 -0.148719 -0.094874  \n",
       "studytime   0.025253 -0.226503 -0.129162 -0.067115 -0.018695 -0.029742  \n",
       "failures   -0.095520 -0.043110 -0.021022  0.057279  0.239602 -0.314698  \n",
       "famrel      1.000000  0.084336  0.069922  0.178145  0.016312 -0.026742  \n",
       "freetime    0.084336  1.000000  0.381049  0.120714  0.093512  0.068862  \n",
       "goout       0.069922  0.381049  1.000000 -0.033206  0.094859 -0.079187  \n",
       "health      0.178145  0.120714 -0.033206  1.000000 -0.019866 -0.103462  \n",
       "absences    0.016312  0.093512  0.094859 -0.019866  1.000000  0.012502  \n",
       "score      -0.026742  0.068862 -0.079187 -0.103462  0.012502  1.000000  "
      ]
     },
     "execution_count": 61,
     "metadata": {},
     "output_type": "execute_result"
    }
   ],
   "source": [
    "# correlation of values in nan-free data\n",
    "\n",
    "data_clean.corr()"
   ]
  },
  {
   "cell_type": "code",
   "execution_count": 62,
   "metadata": {},
   "outputs": [
    {
     "data": {
      "text/html": [
       "<div>\n",
       "<style scoped>\n",
       "    .dataframe tbody tr th:only-of-type {\n",
       "        vertical-align: middle;\n",
       "    }\n",
       "\n",
       "    .dataframe tbody tr th {\n",
       "        vertical-align: top;\n",
       "    }\n",
       "\n",
       "    .dataframe thead th {\n",
       "        text-align: right;\n",
       "    }\n",
       "</style>\n",
       "<table border=\"1\" class=\"dataframe\">\n",
       "  <thead>\n",
       "    <tr style=\"text-align: right;\">\n",
       "      <th></th>\n",
       "      <th>age</th>\n",
       "      <th>medu</th>\n",
       "      <th>fedu</th>\n",
       "      <th>traveltime</th>\n",
       "      <th>studytime</th>\n",
       "      <th>failures</th>\n",
       "      <th>famrel</th>\n",
       "      <th>freetime</th>\n",
       "      <th>goout</th>\n",
       "      <th>health</th>\n",
       "      <th>absences</th>\n",
       "      <th>score</th>\n",
       "    </tr>\n",
       "  </thead>\n",
       "  <tbody>\n",
       "    <tr>\n",
       "      <th>age</th>\n",
       "      <td>1.000000</td>\n",
       "      <td>-0.167134</td>\n",
       "      <td>-0.195513</td>\n",
       "      <td>0.028600</td>\n",
       "      <td>-0.060323</td>\n",
       "      <td>0.154563</td>\n",
       "      <td>0.059762</td>\n",
       "      <td>0.021089</td>\n",
       "      <td>0.113838</td>\n",
       "      <td>-0.078373</td>\n",
       "      <td>0.115610</td>\n",
       "      <td>-0.168514</td>\n",
       "    </tr>\n",
       "    <tr>\n",
       "      <th>medu</th>\n",
       "      <td>-0.167134</td>\n",
       "      <td>1.000000</td>\n",
       "      <td>0.593024</td>\n",
       "      <td>-0.154248</td>\n",
       "      <td>0.101363</td>\n",
       "      <td>-0.203750</td>\n",
       "      <td>-0.013994</td>\n",
       "      <td>0.068356</td>\n",
       "      <td>0.085460</td>\n",
       "      <td>-0.072398</td>\n",
       "      <td>0.121504</td>\n",
       "      <td>0.190417</td>\n",
       "    </tr>\n",
       "    <tr>\n",
       "      <th>fedu</th>\n",
       "      <td>-0.195513</td>\n",
       "      <td>0.593024</td>\n",
       "      <td>1.000000</td>\n",
       "      <td>-0.140905</td>\n",
       "      <td>0.020799</td>\n",
       "      <td>-0.243965</td>\n",
       "      <td>-0.022215</td>\n",
       "      <td>-0.009461</td>\n",
       "      <td>0.026200</td>\n",
       "      <td>0.013322</td>\n",
       "      <td>-0.023762</td>\n",
       "      <td>0.072998</td>\n",
       "    </tr>\n",
       "    <tr>\n",
       "      <th>traveltime</th>\n",
       "      <td>0.028600</td>\n",
       "      <td>-0.154248</td>\n",
       "      <td>-0.140905</td>\n",
       "      <td>1.000000</td>\n",
       "      <td>-0.050272</td>\n",
       "      <td>0.045308</td>\n",
       "      <td>-0.038970</td>\n",
       "      <td>-0.068525</td>\n",
       "      <td>-0.072204</td>\n",
       "      <td>0.093496</td>\n",
       "      <td>-0.061993</td>\n",
       "      <td>-0.073923</td>\n",
       "    </tr>\n",
       "    <tr>\n",
       "      <th>studytime</th>\n",
       "      <td>-0.060323</td>\n",
       "      <td>0.101363</td>\n",
       "      <td>0.020799</td>\n",
       "      <td>-0.050272</td>\n",
       "      <td>1.000000</td>\n",
       "      <td>-0.171147</td>\n",
       "      <td>0.030862</td>\n",
       "      <td>-0.144236</td>\n",
       "      <td>-0.058742</td>\n",
       "      <td>-0.086323</td>\n",
       "      <td>-0.074297</td>\n",
       "      <td>0.131172</td>\n",
       "    </tr>\n",
       "    <tr>\n",
       "      <th>failures</th>\n",
       "      <td>0.154563</td>\n",
       "      <td>-0.203750</td>\n",
       "      <td>-0.243965</td>\n",
       "      <td>0.045308</td>\n",
       "      <td>-0.171147</td>\n",
       "      <td>1.000000</td>\n",
       "      <td>-0.001875</td>\n",
       "      <td>0.096966</td>\n",
       "      <td>0.091325</td>\n",
       "      <td>0.075099</td>\n",
       "      <td>0.033521</td>\n",
       "      <td>-0.324397</td>\n",
       "    </tr>\n",
       "    <tr>\n",
       "      <th>famrel</th>\n",
       "      <td>0.059762</td>\n",
       "      <td>-0.013994</td>\n",
       "      <td>-0.022215</td>\n",
       "      <td>-0.038970</td>\n",
       "      <td>0.030862</td>\n",
       "      <td>-0.001875</td>\n",
       "      <td>1.000000</td>\n",
       "      <td>0.157558</td>\n",
       "      <td>0.043025</td>\n",
       "      <td>0.095766</td>\n",
       "      <td>-0.071763</td>\n",
       "      <td>0.057722</td>\n",
       "    </tr>\n",
       "    <tr>\n",
       "      <th>freetime</th>\n",
       "      <td>0.021089</td>\n",
       "      <td>0.068356</td>\n",
       "      <td>-0.009461</td>\n",
       "      <td>-0.068525</td>\n",
       "      <td>-0.144236</td>\n",
       "      <td>0.096966</td>\n",
       "      <td>0.157558</td>\n",
       "      <td>1.000000</td>\n",
       "      <td>0.306169</td>\n",
       "      <td>0.086550</td>\n",
       "      <td>0.156420</td>\n",
       "      <td>0.061583</td>\n",
       "    </tr>\n",
       "    <tr>\n",
       "      <th>goout</th>\n",
       "      <td>0.113838</td>\n",
       "      <td>0.085460</td>\n",
       "      <td>0.026200</td>\n",
       "      <td>-0.072204</td>\n",
       "      <td>-0.058742</td>\n",
       "      <td>0.091325</td>\n",
       "      <td>0.043025</td>\n",
       "      <td>0.306169</td>\n",
       "      <td>1.000000</td>\n",
       "      <td>-0.051877</td>\n",
       "      <td>0.128806</td>\n",
       "      <td>-0.086686</td>\n",
       "    </tr>\n",
       "    <tr>\n",
       "      <th>health</th>\n",
       "      <td>-0.078373</td>\n",
       "      <td>-0.072398</td>\n",
       "      <td>0.013322</td>\n",
       "      <td>0.093496</td>\n",
       "      <td>-0.086323</td>\n",
       "      <td>0.075099</td>\n",
       "      <td>0.095766</td>\n",
       "      <td>0.086550</td>\n",
       "      <td>-0.051877</td>\n",
       "      <td>1.000000</td>\n",
       "      <td>-0.010898</td>\n",
       "      <td>-0.053052</td>\n",
       "    </tr>\n",
       "    <tr>\n",
       "      <th>absences</th>\n",
       "      <td>0.115610</td>\n",
       "      <td>0.121504</td>\n",
       "      <td>-0.023762</td>\n",
       "      <td>-0.061993</td>\n",
       "      <td>-0.074297</td>\n",
       "      <td>0.033521</td>\n",
       "      <td>-0.071763</td>\n",
       "      <td>0.156420</td>\n",
       "      <td>0.128806</td>\n",
       "      <td>-0.010898</td>\n",
       "      <td>1.000000</td>\n",
       "      <td>0.079958</td>\n",
       "    </tr>\n",
       "    <tr>\n",
       "      <th>score</th>\n",
       "      <td>-0.168514</td>\n",
       "      <td>0.190417</td>\n",
       "      <td>0.072998</td>\n",
       "      <td>-0.073923</td>\n",
       "      <td>0.131172</td>\n",
       "      <td>-0.324397</td>\n",
       "      <td>0.057722</td>\n",
       "      <td>0.061583</td>\n",
       "      <td>-0.086686</td>\n",
       "      <td>-0.053052</td>\n",
       "      <td>0.079958</td>\n",
       "      <td>1.000000</td>\n",
       "    </tr>\n",
       "  </tbody>\n",
       "</table>\n",
       "</div>"
      ],
      "text/plain": [
       "                 age      medu      fedu  traveltime  studytime  failures  \\\n",
       "age         1.000000 -0.167134 -0.195513    0.028600  -0.060323  0.154563   \n",
       "medu       -0.167134  1.000000  0.593024   -0.154248   0.101363 -0.203750   \n",
       "fedu       -0.195513  0.593024  1.000000   -0.140905   0.020799 -0.243965   \n",
       "traveltime  0.028600 -0.154248 -0.140905    1.000000  -0.050272  0.045308   \n",
       "studytime  -0.060323  0.101363  0.020799   -0.050272   1.000000 -0.171147   \n",
       "failures    0.154563 -0.203750 -0.243965    0.045308  -0.171147  1.000000   \n",
       "famrel      0.059762 -0.013994 -0.022215   -0.038970   0.030862 -0.001875   \n",
       "freetime    0.021089  0.068356 -0.009461   -0.068525  -0.144236  0.096966   \n",
       "goout       0.113838  0.085460  0.026200   -0.072204  -0.058742  0.091325   \n",
       "health     -0.078373 -0.072398  0.013322    0.093496  -0.086323  0.075099   \n",
       "absences    0.115610  0.121504 -0.023762   -0.061993  -0.074297  0.033521   \n",
       "score      -0.168514  0.190417  0.072998   -0.073923   0.131172 -0.324397   \n",
       "\n",
       "              famrel  freetime     goout    health  absences     score  \n",
       "age         0.059762  0.021089  0.113838 -0.078373  0.115610 -0.168514  \n",
       "medu       -0.013994  0.068356  0.085460 -0.072398  0.121504  0.190417  \n",
       "fedu       -0.022215 -0.009461  0.026200  0.013322 -0.023762  0.072998  \n",
       "traveltime -0.038970 -0.068525 -0.072204  0.093496 -0.061993 -0.073923  \n",
       "studytime   0.030862 -0.144236 -0.058742 -0.086323 -0.074297  0.131172  \n",
       "failures   -0.001875  0.096966  0.091325  0.075099  0.033521 -0.324397  \n",
       "famrel      1.000000  0.157558  0.043025  0.095766 -0.071763  0.057722  \n",
       "freetime    0.157558  1.000000  0.306169  0.086550  0.156420  0.061583  \n",
       "goout       0.043025  0.306169  1.000000 -0.051877  0.128806 -0.086686  \n",
       "health      0.095766  0.086550 -0.051877  1.000000 -0.010898 -0.053052  \n",
       "absences   -0.071763  0.156420  0.128806 -0.010898  1.000000  0.079958  \n",
       "score       0.057722  0.061583 -0.086686 -0.053052  0.079958  1.000000  "
      ]
     },
     "execution_count": 62,
     "metadata": {},
     "output_type": "execute_result"
    }
   ],
   "source": [
    "# correlation in data\n",
    "\n",
    "data.corr()\n"
   ]
  },
  {
   "cell_type": "code",
   "execution_count": 63,
   "metadata": {},
   "outputs": [
    {
     "data": {
      "text/plain": [
       "<matplotlib.axes._subplots.AxesSubplot at 0x1fea15ee348>"
      ]
     },
     "execution_count": 63,
     "metadata": {},
     "output_type": "execute_result"
    },
    {
     "data": {
      "image/png": "[encoded data removed]",
      "text/plain": [
       "<Figure size 432x288 with 2 Axes>"
      ]
     },
     "metadata": {
      "needs_background": "light"
     },
     "output_type": "display_data"
    }
   ],
   "source": [
    "correlation = data.corr()\n",
    "sns.heatmap(correlation, annot=True, cmap = 'coolwarm')"
   ]
  },
  {
   "cell_type": "markdown",
   "metadata": {},
   "source": [
    "## Edited data looks better than data after dropping all 'nan' at the very begining.\n",
    "\n",
    "### Score has strongest correlation with 'medu' and 'absences' (reversed)\n",
    "\n",
    "### Such columns as 'health', 'goout', 'freetime', 'traveltime' can be removed from the data"
   ]
  },
  {
   "cell_type": "markdown",
   "metadata": {},
   "source": [
    "# Analisys of nominative values\n",
    "\n",
    "## Boxplots!"
   ]
  },
  {
   "cell_type": "code",
   "execution_count": 64,
   "metadata": {},
   "outputs": [],
   "source": [
    "def get_boxplot(column):\n",
    "    fig, ax = plt.subplots(figsize = (14, 4))\n",
    "    sns.boxplot(x=column, y='score', \n",
    "                data=data.loc[data.loc[:, column].isin(data.loc[:, column].value_counts().index[:10])],\n",
    "               ax=ax)\n",
    "    plt.xticks(rotation=45)\n",
    "    ax.set_title('Boxplot for ' + column)\n",
    "    plt.show()"
   ]
  },
  {
   "cell_type": "code",
   "execution_count": 65,
   "metadata": {},
   "outputs": [
    {
     "data": {
      "image/png": "[encoded data removed]",
      "text/plain": [
       "<Figure size 1008x288 with 1 Axes>"
      ]
     },
     "metadata": {
      "needs_background": "light"
     },
     "output_type": "display_data"
    },
    {
     "data": {
      "image/png": "[encoded data removed]",
      "text/plain": [
       "<Figure size 1008x288 with 1 Axes>"
      ]
     },
     "metadata": {
      "needs_background": "light"
     },
     "output_type": "display_data"
    },
    {
     "data": {
      "image/png": "[encoded data removed]",
      "text/plain": [
       "<Figure size 1008x288 with 1 Axes>"
      ]
     },
     "metadata": {
      "needs_background": "light"
     },
     "output_type": "display_data"
    },
    {
     "data": {
      "image/png": "[encoded data removed]",
      "text/plain": [
       "<Figure size 1008x288 with 1 Axes>"
      ]
     },
     "metadata": {
      "needs_background": "light"
     },
     "output_type": "display_data"
    }
   ],
   "source": [
    "for col in ['sex', 'famsize', 'address', 'pstatus']:\n",
    "    get_boxplot(col)"
   ]
  },
  {
   "cell_type": "code",
   "execution_count": 66,
   "metadata": {},
   "outputs": [
    {
     "data": {
      "image/png": "[encoded data removed]",
      "text/plain": [
       "<Figure size 1008x288 with 1 Axes>"
      ]
     },
     "metadata": {
      "needs_background": "light"
     },
     "output_type": "display_data"
    },
    {
     "data": {
      "image/png": "[encoded data removed]",
      "text/plain": [
       "<Figure size 1008x288 with 1 Axes>"
      ]
     },
     "metadata": {
      "needs_background": "light"
     },
     "output_type": "display_data"
    },
    {
     "data": {
      "image/png": "[encoded data removed]",
      "text/plain": [
       "<Figure size 1008x288 with 1 Axes>"
      ]
     },
     "metadata": {
      "needs_background": "light"
     },
     "output_type": "display_data"
    },
    {
     "data": {
      "image/png": "[encoded data removed]",
      "text/plain": [
       "<Figure size 1008x288 with 1 Axes>"
      ]
     },
     "metadata": {
      "needs_background": "light"
     },
     "output_type": "display_data"
    }
   ],
   "source": [
    "for col in ['mjob', 'fjob', 'reason', 'guardian']:\n",
    "    get_boxplot(col)"
   ]
  },
  {
   "cell_type": "markdown",
   "metadata": {},
   "source": [
    "## Stats!"
   ]
  },
  {
   "cell_type": "code",
   "execution_count": 67,
   "metadata": {},
   "outputs": [],
   "source": [
    "# T-stat!\n",
    "\n",
    "def get_stat_dif(column):\n",
    "    cols = data.loc[:, column].value_counts().index[:10]\n",
    "    combinations_all = list(combinations(cols, 2))\n",
    "    for comb in combinations_all:\n",
    "        if ttest_ind(data.loc[data.loc[:, column] == comb[0], 'score'], \n",
    "                        data.loc[data.loc[:, column] == comb[1], 'score']).pvalue \\\n",
    "            <= 0.05/len(combinations_all): # Учли поправку Бонферони\n",
    "            print('This column(s) ->', column)\n",
    "            break"
   ]
  },
  {
   "cell_type": "code",
   "execution_count": 68,
   "metadata": {},
   "outputs": [
    {
     "name": "stdout",
     "output_type": "stream",
     "text": [
      "This column(s) -> sex\n",
      "This column(s) -> paid\n",
      "This column(s) -> higher\n"
     ]
    }
   ],
   "source": [
    "for col in ['sex', \n",
    "            'famsize', \n",
    "            'address', \n",
    "            'pstatus', \n",
    "            'mjob', \n",
    "            'fjob', \n",
    "            'reason', \n",
    "            'guardian', \n",
    "            'schoolsup', \n",
    "            'famsup',\n",
    "           'paid',\n",
    "           'activities', \n",
    "           'nursery',\n",
    "           'higher',\n",
    "           'internet',\n",
    "           'romantic']:\n",
    "    get_stat_dif(col)"
   ]
  },
  {
   "cell_type": "markdown",
   "metadata": {},
   "source": [
    "## Well, looks like sex, additional math classes and desire to receive higher education have the strongest affect on math score...\n",
    "\n",
    "\n",
    "## Other variables seem to have no affect on math scores"
   ]
  },
  {
   "cell_type": "code",
   "execution_count": null,
   "metadata": {},
   "outputs": [],
   "source": [
    "data_math = data[['sex', 'paid', 'higher', ]]"
   ]
  },
  {
   "cell_type": "code",
   "execution_count": 69,
   "metadata": {},
   "outputs": [],
   "source": [
    "# Backlog\n",
    "#function - choice randomizer - doesn't work, no time to debug\n",
    "\n",
    "#def choice_randomizer(col):\n",
    "#    col_lst = data.col.unique().dropna()\n",
    "#    data.col = data.col.fillna(random.choice(col_lst))        "
   ]
  },
  {
   "cell_type": "code",
   "execution_count": 70,
   "metadata": {},
   "outputs": [],
   "source": [
    "#for col in ['mjob', 'fjob']:\n",
    "#    choice_randomizer(col)"
   ]
  }
 ],
 "metadata": {
  "kernelspec": {
   "display_name": "Python 3",
   "language": "python",
   "name": "python3"
  },
  "language_info": {
   "codemirror_mode": {
    "name": "ipython",
    "version": 3
   },
   "file_extension": ".py",
   "mimetype": "text/x-python",
   "name": "python",
   "nbconvert_exporter": "python",
   "pygments_lexer": "ipython3",
   "version": "3.7.6"
  }
 },
 "nbformat": 4,
 "nbformat_minor": 4
}
